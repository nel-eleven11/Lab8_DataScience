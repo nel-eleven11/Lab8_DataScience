{
 "cells": [
  {
   "cell_type": "markdown",
   "id": "fd7a66d6",
   "metadata": {},
   "source": [
    "# Laboratorio 8 Data Science\n",
    "## Detección de Anomalías con Autoencoder, Isolation Forest y LOF\n",
    "\n",
    "Autores:\n",
    "\n",
    "- Nelson García Bravatti\n",
    "- Joaquín Puente"
   ]
  },
  {
   "cell_type": "markdown",
   "id": "a19207d8",
   "metadata": {},
   "source": [
    "# 1. Carga del Conjunto de Datos:"
   ]
  },
  {
   "cell_type": "code",
   "execution_count": null,
   "id": "720cf8ae",
   "metadata": {
    "vscode": {
     "languageId": "plaintext"
    }
   },
   "outputs": [],
   "source": []
  }
 ],
 "metadata": {
  "language_info": {
   "name": "python"
  }
 },
 "nbformat": 4,
 "nbformat_minor": 5
}
